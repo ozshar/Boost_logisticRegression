{
 "cells": [
  {
   "cell_type": "code",
   "execution_count": 1,
   "metadata": {},
   "outputs": [],
   "source": [
    "import pandas as pd\n",
    "import numpy as np\n",
    "import matplotlib.pyplot as plt\n",
    "from sklearn import linear_model,ensemble,naive_bayes\n",
    "import seaborn as sns\n",
    "\n",
    "import warnings\n",
    "warnings.filterwarnings(\"ignore\", category=FutureWarning)"
   ]
  },
  {
   "cell_type": "markdown",
   "metadata": {},
   "source": [
    "### Dataset : \n",
    "https://archive.ics.uci.edu/ml/machine-learning-databases/adult/"
   ]
  },
  {
   "cell_type": "code",
   "execution_count": null,
   "metadata": {},
   "outputs": [],
   "source": []
  },
  {
   "cell_type": "code",
   "execution_count": 2,
   "metadata": {},
   "outputs": [],
   "source": [
    "ff = pd.read_csv(\"adult.csv\")"
   ]
  },
  {
   "cell_type": "code",
   "execution_count": 3,
   "metadata": {},
   "outputs": [
    {
     "data": {
      "text/plain": [
       "(32561, 15)"
      ]
     },
     "execution_count": 3,
     "metadata": {},
     "output_type": "execute_result"
    }
   ],
   "source": [
    "ff.shape"
   ]
  },
  {
   "cell_type": "code",
   "execution_count": 4,
   "metadata": {},
   "outputs": [
    {
     "data": {
      "text/plain": [
       "object    9\n",
       "int64     6\n",
       "dtype: int64"
      ]
     },
     "execution_count": 4,
     "metadata": {},
     "output_type": "execute_result"
    }
   ],
   "source": [
    "ff.dtypes.value_counts()"
   ]
  },
  {
   "cell_type": "code",
   "execution_count": 5,
   "metadata": {},
   "outputs": [
    {
     "data": {
      "text/html": [
       "<div>\n",
       "<style scoped>\n",
       "    .dataframe tbody tr th:only-of-type {\n",
       "        vertical-align: middle;\n",
       "    }\n",
       "\n",
       "    .dataframe tbody tr th {\n",
       "        vertical-align: top;\n",
       "    }\n",
       "\n",
       "    .dataframe thead th {\n",
       "        text-align: right;\n",
       "    }\n",
       "</style>\n",
       "<table border=\"1\" class=\"dataframe\">\n",
       "  <thead>\n",
       "    <tr style=\"text-align: right;\">\n",
       "      <th></th>\n",
       "      <th>age</th>\n",
       "      <th>fnlwgt</th>\n",
       "      <th>education-num</th>\n",
       "      <th>capital-gain</th>\n",
       "      <th>capital-loss</th>\n",
       "      <th>hours-per-week</th>\n",
       "    </tr>\n",
       "  </thead>\n",
       "  <tbody>\n",
       "    <tr>\n",
       "      <th>count</th>\n",
       "      <td>32561.000000</td>\n",
       "      <td>3.256100e+04</td>\n",
       "      <td>32561.000000</td>\n",
       "      <td>32561.000000</td>\n",
       "      <td>32561.000000</td>\n",
       "      <td>32561.000000</td>\n",
       "    </tr>\n",
       "    <tr>\n",
       "      <th>mean</th>\n",
       "      <td>38.581647</td>\n",
       "      <td>1.897784e+05</td>\n",
       "      <td>10.080679</td>\n",
       "      <td>1077.648844</td>\n",
       "      <td>87.303830</td>\n",
       "      <td>40.437456</td>\n",
       "    </tr>\n",
       "    <tr>\n",
       "      <th>std</th>\n",
       "      <td>13.640433</td>\n",
       "      <td>1.055500e+05</td>\n",
       "      <td>2.572720</td>\n",
       "      <td>7385.292085</td>\n",
       "      <td>402.960219</td>\n",
       "      <td>12.347429</td>\n",
       "    </tr>\n",
       "    <tr>\n",
       "      <th>min</th>\n",
       "      <td>17.000000</td>\n",
       "      <td>1.228500e+04</td>\n",
       "      <td>1.000000</td>\n",
       "      <td>0.000000</td>\n",
       "      <td>0.000000</td>\n",
       "      <td>1.000000</td>\n",
       "    </tr>\n",
       "    <tr>\n",
       "      <th>25%</th>\n",
       "      <td>28.000000</td>\n",
       "      <td>1.178270e+05</td>\n",
       "      <td>9.000000</td>\n",
       "      <td>0.000000</td>\n",
       "      <td>0.000000</td>\n",
       "      <td>40.000000</td>\n",
       "    </tr>\n",
       "    <tr>\n",
       "      <th>50%</th>\n",
       "      <td>37.000000</td>\n",
       "      <td>1.783560e+05</td>\n",
       "      <td>10.000000</td>\n",
       "      <td>0.000000</td>\n",
       "      <td>0.000000</td>\n",
       "      <td>40.000000</td>\n",
       "    </tr>\n",
       "    <tr>\n",
       "      <th>75%</th>\n",
       "      <td>48.000000</td>\n",
       "      <td>2.370510e+05</td>\n",
       "      <td>12.000000</td>\n",
       "      <td>0.000000</td>\n",
       "      <td>0.000000</td>\n",
       "      <td>45.000000</td>\n",
       "    </tr>\n",
       "    <tr>\n",
       "      <th>max</th>\n",
       "      <td>90.000000</td>\n",
       "      <td>1.484705e+06</td>\n",
       "      <td>16.000000</td>\n",
       "      <td>99999.000000</td>\n",
       "      <td>4356.000000</td>\n",
       "      <td>99.000000</td>\n",
       "    </tr>\n",
       "  </tbody>\n",
       "</table>\n",
       "</div>"
      ],
      "text/plain": [
       "                age        fnlwgt   education-num  capital-gain  capital-loss  \\\n",
       "count  32561.000000  3.256100e+04    32561.000000  32561.000000  32561.000000   \n",
       "mean      38.581647  1.897784e+05       10.080679   1077.648844     87.303830   \n",
       "std       13.640433  1.055500e+05        2.572720   7385.292085    402.960219   \n",
       "min       17.000000  1.228500e+04        1.000000      0.000000      0.000000   \n",
       "25%       28.000000  1.178270e+05        9.000000      0.000000      0.000000   \n",
       "50%       37.000000  1.783560e+05       10.000000      0.000000      0.000000   \n",
       "75%       48.000000  2.370510e+05       12.000000      0.000000      0.000000   \n",
       "max       90.000000  1.484705e+06       16.000000  99999.000000   4356.000000   \n",
       "\n",
       "       hours-per-week  \n",
       "count    32561.000000  \n",
       "mean        40.437456  \n",
       "std         12.347429  \n",
       "min          1.000000  \n",
       "25%         40.000000  \n",
       "50%         40.000000  \n",
       "75%         45.000000  \n",
       "max         99.000000  "
      ]
     },
     "execution_count": 5,
     "metadata": {},
     "output_type": "execute_result"
    }
   ],
   "source": [
    "ff.describe()"
   ]
  },
  {
   "cell_type": "code",
   "execution_count": 6,
   "metadata": {},
   "outputs": [
    {
     "data": {
      "text/plain": [
       "0    15\n",
       "dtype: int64"
      ]
     },
     "execution_count": 6,
     "metadata": {},
     "output_type": "execute_result"
    }
   ],
   "source": [
    "inl = ff.isnull().sum()\n",
    "inl.value_counts()"
   ]
  },
  {
   "cell_type": "code",
   "execution_count": 7,
   "metadata": {},
   "outputs": [],
   "source": [
    "cols_obj = ff.columns[ff.dtypes==object]"
   ]
  },
  {
   "cell_type": "code",
   "execution_count": 8,
   "metadata": {},
   "outputs": [],
   "source": [
    "cols_non_obj = ff.columns[ff.dtypes!=object]"
   ]
  },
  {
   "cell_type": "code",
   "execution_count": 9,
   "metadata": {},
   "outputs": [
    {
     "data": {
      "text/plain": [
       "array([[<matplotlib.axes._subplots.AxesSubplot object at 0x7fba87f57908>,\n",
       "        <matplotlib.axes._subplots.AxesSubplot object at 0x7fba87f22f98>],\n",
       "       [<matplotlib.axes._subplots.AxesSubplot object at 0x7fba87ed25f8>,\n",
       "        <matplotlib.axes._subplots.AxesSubplot object at 0x7fba87ef8c50>],\n",
       "       [<matplotlib.axes._subplots.AxesSubplot object at 0x7fba87eab320>,\n",
       "        <matplotlib.axes._subplots.AxesSubplot object at 0x7fba87eab358>]],\n",
       "      dtype=object)"
      ]
     },
     "execution_count": 9,
     "metadata": {},
     "output_type": "execute_result"
    },
    {
     "data": {
      "image/png": "[encoded data removed]",
      "text/plain": [
       "<Figure size 720x720 with 6 Axes>"
      ]
     },
     "metadata": {},
     "output_type": "display_data"
    }
   ],
   "source": [
    "ff.hist(figsize=(10,10))"
   ]
  },
  {
   "cell_type": "code",
   "execution_count": 10,
   "metadata": {},
   "outputs": [],
   "source": [
    "ff['class_50K'] = ff['class_50K'].map((ff['class_50K'].value_counts() < 10000).astype(int))"
   ]
  },
  {
   "cell_type": "code",
   "execution_count": 11,
   "metadata": {},
   "outputs": [
    {
     "data": {
      "text/plain": [
       "<matplotlib.axes._subplots.AxesSubplot at 0x7fba87e20d68>"
      ]
     },
     "execution_count": 11,
     "metadata": {},
     "output_type": "execute_result"
    },
    {
     "data": {
      "image/png": "[encoded data removed]",
      "text/plain": [
       "<Figure size 432x288 with 1 Axes>"
      ]
     },
     "metadata": {},
     "output_type": "display_data"
    }
   ],
   "source": [
    "ff['class_50K'].value_counts().plot(kind = 'bar')"
   ]
  },
  {
   "cell_type": "markdown",
   "metadata": {},
   "source": [
    "### Classes are moderately unbalanced - we'll try to take care of it later."
   ]
  },
  {
   "cell_type": "code",
   "execution_count": null,
   "metadata": {},
   "outputs": [],
   "source": []
  },
  {
   "cell_type": "code",
   "execution_count": 12,
   "metadata": {},
   "outputs": [],
   "source": [
    "cols_obj = cols_obj.drop('class_50K')"
   ]
  },
  {
   "cell_type": "code",
   "execution_count": 13,
   "metadata": {},
   "outputs": [
    {
     "data": {
      "text/plain": [
       "workclass          9\n",
       "education         16\n",
       "marital-status     7\n",
       "occupation        15\n",
       "relationship       6\n",
       "race               5\n",
       "sex                2\n",
       "native-country    42\n",
       "dtype: int64"
      ]
     },
     "execution_count": 13,
     "metadata": {},
     "output_type": "execute_result"
    }
   ],
   "source": [
    "ff[cols_obj].apply(lambda x: len(x.unique()))"
   ]
  },
  {
   "cell_type": "markdown",
   "metadata": {},
   "source": [
    "### Convert categorical variables to binary (for both dataframes - with and without outliers)"
   ]
  },
  {
   "cell_type": "code",
   "execution_count": 14,
   "metadata": {},
   "outputs": [],
   "source": [
    "ff = pd.concat([ff.drop(cols_obj,1), pd.get_dummies(ff[cols_obj])],1)"
   ]
  },
  {
   "cell_type": "markdown",
   "metadata": {},
   "source": [
    "ff = ff.drop(cols_obj,1)"
   ]
  },
  {
   "cell_type": "markdown",
   "metadata": {},
   "source": [
    "### Generic function to test different classification models - with and without smote for oversampling:"
   ]
  },
  {
   "cell_type": "code",
   "execution_count": 15,
   "metadata": {},
   "outputs": [],
   "source": [
    "from sklearn.model_selection import train_test_split\n",
    "from sklearn.metrics import confusion_matrix, roc_auc_score\n",
    "from imblearn import over_sampling\n",
    "\n",
    "\n",
    "def run_model(data,model,oversample = False,confusion=False):\n",
    "    train,test = train_test_split(data,test_size = 0.3,random_state = 27)\n",
    "    X = train.drop('class_50K',1)\n",
    "    y = train['class_50K']\n",
    "    if oversample:\n",
    "        smot = over_sampling.BorderlineSMOTE(random_state=12)\n",
    "        X,y = smot.fit_resample(X,y)\n",
    "    \n",
    "    model.fit(X,y)\n",
    "    print ('AUC : ', roc_auc_score(test['class_50K'],model.predict_proba(test.drop('class_50K',1))[:,1]))\n",
    "    print ('Accuracy:', model.score(test.drop('class_50K',1),test['class_50K']) )\n",
    "    if confusion:\n",
    "        print (confusion_matrix(test['class_50K'],model.predict(test.drop('class_50K',1))))\n",
    "    return  model"
   ]
  },
  {
   "cell_type": "code",
   "execution_count": 16,
   "metadata": {},
   "outputs": [
    {
     "name": "stdout",
     "output_type": "stream",
     "text": [
      "AUC :  0.5919812490655926\n",
      "Accuracy: 0.80090080868052\n",
      "[[7218  228]\n",
      " [1717  606]]\n"
     ]
    }
   ],
   "source": [
    "# The linear regression model:\n",
    "model_lr = run_model(ff,linear_model.LogisticRegression(),confusion=True)"
   ]
  },
  {
   "cell_type": "code",
   "execution_count": 17,
   "metadata": {},
   "outputs": [
    {
     "name": "stdout",
     "output_type": "stream",
     "text": [
      "AUC :  0.9142532793727118\n",
      "Accuracy: 0.8627290408434845\n",
      "[[7058  388]\n",
      " [ 953 1370]]\n"
     ]
    }
   ],
   "source": [
    "# Random forests model , with basic hyperparameters tuning:\n",
    "model_rf = run_model(ff,ensemble.RandomForestClassifier(min_samples_leaf=5),confusion=True)"
   ]
  },
  {
   "cell_type": "code",
   "execution_count": 18,
   "metadata": {},
   "outputs": [
    {
     "name": "stdout",
     "output_type": "stream",
     "text": [
      "AUC :  0.9216384370105021\n",
      "Accuracy: 0.8669259903777254\n",
      "[[7084  362]\n",
      " [ 938 1385]]\n"
     ]
    }
   ],
   "source": [
    "# And of course, XGBOOST model:\n",
    "import xgboost as xgb\n",
    "model_xgb = run_model(ff,xgb.XGBClassifier(),confusion=True)"
   ]
  },
  {
   "cell_type": "markdown",
   "metadata": {
    "scrolled": true
   },
   "source": [
    "#### Logistic regression fails to classify, while the trees models work quite well.\n",
    "#### Why Logit fails? we can guess a couple answers - 1. Imbalanced data. 2. Very far from normal feature distributions.\n",
    "### Logistic regression has one significant advantage over the trees models - it is not a black box, and can easily provide great domain insights. Thus, it's worth the effort to improve it's performance"
   ]
  },
  {
   "cell_type": "markdown",
   "metadata": {},
   "source": [
    "### Let's try to improve logistic regerssion by 3 differetn strategies: \n",
    "1. Transform non-normal distributing features. \n",
    "\n",
    "Or, by handling the imbalanced data - either by: \n",
    "2. split to small data sets and bag the resulted models   ,or: \n",
    "3. over sampling (SMOTE)"
   ]
  },
  {
   "cell_type": "markdown",
   "metadata": {},
   "source": [
    "#### 1. Log-transform non-normal features:"
   ]
  },
  {
   "cell_type": "code",
   "execution_count": 19,
   "metadata": {},
   "outputs": [],
   "source": [
    "ff_transpos = ff.copy()\n",
    "cols_transpos = ['fnlwgt','capital-loss','capital-gain']\n",
    "ff_transpos[cols_transpos] = ff[cols_transpos].apply(lambda x: np.log(x+1))"
   ]
  },
  {
   "cell_type": "code",
   "execution_count": 20,
   "metadata": {
    "scrolled": true
   },
   "outputs": [
    {
     "name": "stdout",
     "output_type": "stream",
     "text": [
      "AUC :  0.9044545610010675\n",
      "Accuracy: 0.8478861705394616\n"
     ]
    }
   ],
   "source": [
    "model_lr = run_model(ff_transpos,linear_model.LogisticRegression())"
   ]
  },
  {
   "cell_type": "markdown",
   "metadata": {},
   "source": [
    "### Interesting! using log trnaspose to non-normally distrubting features gave a serious boost to the linear model (i.e. the Logistic regression)!"
   ]
  },
  {
   "cell_type": "code",
   "execution_count": null,
   "metadata": {},
   "outputs": [],
   "source": []
  },
  {
   "cell_type": "markdown",
   "metadata": {},
   "source": [
    "####  2. Split and bag models\n",
    "#### The main idea - split, merge and aggregate, as illustrated in the example below: \n",
    "* split the 0 class into groups of 4 samples each - same as the 1 class size.\n",
    "* append each of the three 0 groups with the 1 group -> will result with 3 tables, each has 8 rows of balanced data.\n",
    "* Apply logistic regression on each table. \n",
    "* Apply the 3 models on un-related test set.\n",
    "* Finally- get the average probability for each sample."
   ]
  },
  {
   "cell_type": "markdown",
   "metadata": {},
   "source": [
    "![title](bagging.jpg)"
   ]
  },
  {
   "cell_type": "markdown",
   "metadata": {},
   "source": [
    "#### Here's the code:"
   ]
  },
  {
   "cell_type": "code",
   "execution_count": 21,
   "metadata": {},
   "outputs": [],
   "source": [
    "from sklearn.model_selection import KFold\n",
    "model = linear_model.LogisticRegression()\n",
    "#model = ensemble.RandomForestClassifier(min_samples_leaf=5)\n",
    "#model = xgb.XGBClassifier()\n",
    "\n",
    "train,test = train_test_split(ff,test_size = 0.3,random_state = 27)\n",
    "\n",
    "train_1 = train[train['class_50K'] ==1]\n",
    "train_0 = train[train['class_50K'] ==0]\n",
    "num_group_0 = int(len(train_0)/len(train_1))\n",
    "\n",
    "# Split the 0 class to N groups, then sample similar size from 1 class (about 80-100% of class 1 size)\n",
    "kf = KFold(n_splits=num_group_0+3)\n",
    "vals = {}\n",
    "for i,h in enumerate(kf.split(X=train_0)):\n",
    "    trn = train_0.iloc[h[1]].append(train_1.sample(len(h[1])))\n",
    "    X = trn.drop('class_50K',1)\n",
    "    y = trn['class_50K']\n",
    "    model.fit(X,y)\n",
    "    vals[i] = model.predict_proba(test.drop('class_50K',1))[:,1]"
   ]
  },
  {
   "cell_type": "code",
   "execution_count": 22,
   "metadata": {},
   "outputs": [
    {
     "name": "stdout",
     "output_type": "stream",
     "text": [
      "AUC     : 0.9018782269215956\n",
      "accuracy: 0.8537209540382844\n"
     ]
    }
   ],
   "source": [
    "print ('AUC     :' , roc_auc_score(test['class_50K'],pd.DataFrame(vals).mean(1)))\n",
    "print ('accuracy:', (test['class_50K'].values== (pd.DataFrame(vals).mean(1) > 0.75).astype(int)).sum() / len(test))"
   ]
  },
  {
   "cell_type": "markdown",
   "metadata": {},
   "source": [
    "### Well, by defining a decision boundary of 0.75 , it improved results as well :)"
   ]
  },
  {
   "cell_type": "markdown",
   "metadata": {},
   "source": [
    "3. Use Over-sampling with SMOTE (A good summary here : https://www.kaggle.com/qianchao/smote-with-imbalance-data)"
   ]
  },
  {
   "cell_type": "code",
   "execution_count": 23,
   "metadata": {},
   "outputs": [],
   "source": [
    "from imblearn import over_sampling, under_sampling"
   ]
  },
  {
   "cell_type": "code",
   "execution_count": 24,
   "metadata": {},
   "outputs": [
    {
     "name": "stdout",
     "output_type": "stream",
     "text": [
      "AUC :  0.906623773823271\n",
      "Accuracy: 0.8523902139420616\n",
      "[[6808  638]\n",
      " [ 804 1519]]\n"
     ]
    }
   ],
   "source": [
    "model_lr = run_model(ff,linear_model.LogisticRegression(),oversample=True,confusion=True)"
   ]
  },
  {
   "cell_type": "markdown",
   "metadata": {},
   "source": [
    "### Also Over-sampling worked very well.."
   ]
  },
  {
   "cell_type": "code",
   "execution_count": null,
   "metadata": {},
   "outputs": [],
   "source": []
  },
  {
   "cell_type": "markdown",
   "metadata": {},
   "source": [
    "## Conclusions : \n",
    "### Logistic regression is NOT a black box model which can bring great domain insights.\n",
    "### Thus, although trees models can provide very quick and easy optimal predictive results, aimed here to improve the logistic regression model through data manipulations.\n",
    "### Here, on the \"adults\" dataset, we demonstrated 3 strategies to improve it:\n",
    "#### 1. Log-transform non-normal features.\n",
    "#### 2. Overcome imbalanced classes with split-and-bag method.\\\n",
    "#### 3. Overcome imbalanced classes with oversampling (SMOTE)"
   ]
  },
  {
   "cell_type": "markdown",
   "metadata": {},
   "source": [
    "#### While results seems quite similar, it is worth noting that SMOTE worked here un-usually well, probably because of the abundance of binary variables. These performance are not expected to work as well for continuous variables.."
   ]
  },
  {
   "cell_type": "code",
   "execution_count": null,
   "metadata": {},
   "outputs": [],
   "source": []
  }
 ],
 "metadata": {
  "kernelspec": {
   "display_name": "Python 3",
   "language": "python",
   "name": "python3"
  },
  "language_info": {
   "codemirror_mode": {
    "name": "ipython",
    "version": 3
   },
   "file_extension": ".py",
   "mimetype": "text/x-python",
   "name": "python",
   "nbconvert_exporter": "python",
   "pygments_lexer": "ipython3",
   "version": "3.6.5"
  }
 },
 "nbformat": 4,
 "nbformat_minor": 2
}
